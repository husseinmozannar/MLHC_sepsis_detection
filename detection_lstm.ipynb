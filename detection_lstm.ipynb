{
  "nbformat": 4,
  "nbformat_minor": 0,
  "metadata": {
    "colab": {
      "name": "Copy of MLHC_project_detection.ipynb",
      "provenance": [],
      "collapsed_sections": []
    },
    "kernelspec": {
      "name": "python3",
      "display_name": "Python 3"
    },
    "accelerator": "GPU"
  },
  "cells": [
    {
      "cell_type": "markdown",
      "metadata": {
        "id": "a-gfhzXTr3JK",
        "colab_type": "text"
      },
      "source": [
        "# Prediction of eventual sepsis onset\n",
        "LSTM model with simple imputation"
      ]
    },
    {
      "cell_type": "markdown",
      "metadata": {
        "id": "aLftWpjxzITX",
        "colab_type": "text"
      },
      "source": [
        "## Data prep"
      ]
    },
    {
      "cell_type": "code",
      "metadata": {
        "id": "ysFDAbtZrnrd",
        "colab_type": "code",
        "outputId": "7307bb14-5f1a-437c-c01a-7af6f1467e97",
        "colab": {
          "base_uri": "https://localhost:8080/",
          "height": 108
        }
      },
      "source": [
        "import numpy as np\n",
        "import pandas as pd\n",
        "import os\n",
        "import random\n",
        "import pickle\n",
        "import math\n",
        "import missingno as msno\n",
        "from multiprocessing.dummy import Pool as ThreadPool\n",
        "import time\n",
        "import sys\n",
        "import csv\n",
        "import cv2\n",
        "import matplotlib.pyplot as plt\n",
        "import torch\n",
        "import torch.nn as nn\n",
        "import torch.backends.cudnn as cudnn\n",
        "import torchvision\n",
        "import torchvision.transforms as transforms\n",
        "import torch.optim as optim\n",
        "import torch.nn.functional as tfunc\n",
        "from torch.utils.data import Dataset\n",
        "from torch.utils.data.dataset import random_split\n",
        "from torch.utils.data import DataLoader\n",
        "from torch.optim.lr_scheduler import ReduceLROnPlateau\n",
        "import torch.nn.functional as func\n",
        "from sklearn.metrics.ranking import roc_auc_score\n",
        "import sklearn.metrics as metrics\n",
        "from itertools import cycle\n",
        "from sklearn import svm, datasets\n",
        "from sklearn.metrics import roc_curve, auc\n",
        "from sklearn.model_selection import train_test_split\n",
        "from sklearn.preprocessing import label_binarize\n",
        "from scipy import interp\n",
        "from sklearn.metrics import roc_auc_score"
      ],
      "execution_count": 0,
      "outputs": [
        {
          "output_type": "stream",
          "text": [
            "/usr/local/lib/python3.6/dist-packages/statsmodels/tools/_testing.py:19: FutureWarning: pandas.util.testing is deprecated. Use the functions in the public API at pandas.testing instead.\n",
            "  import pandas.util.testing as tm\n",
            "/usr/local/lib/python3.6/dist-packages/sklearn/utils/deprecation.py:144: FutureWarning: The sklearn.metrics.ranking module is  deprecated in version 0.22 and will be removed in version 0.24. The corresponding classes / functions should instead be imported from sklearn.metrics. Anything that cannot be imported from sklearn.metrics is now part of the private API.\n",
            "  warnings.warn(message, FutureWarning)\n"
          ],
          "name": "stderr"
        }
      ]
    },
    {
      "cell_type": "code",
      "metadata": {
        "id": "8Rq1fF35rruX",
        "colab_type": "code",
        "colab": {}
      },
      "source": [
        "# download data\n",
        "import os\n",
        "import urllib.request\n",
        "urllib.request.urlretrieve('https://archive.physionet.org/users/shared/challenge-2019/training_setA.zip','training_setA.zip')\n",
        "urllib.request.urlretrieve('https://archive.physionet.org/users/shared/challenge-2019/training_setB.zip','training_setB.zip')\n",
        "# unzip\n",
        "!unzip -q training_setA.zip\n",
        "!unzip -q training_setB.zip\n",
        "# delete zip file\n",
        "!rm training_setA.zip\n",
        "!rm training_setB.zip\n",
        "!mv training training_setA"
      ],
      "execution_count": 0,
      "outputs": []
    },
    {
      "cell_type": "code",
      "metadata": {
        "id": "t3_JGR8qruI7",
        "colab_type": "code",
        "colab": {}
      },
      "source": [
        "def impute_missing_vals(df):\n",
        "\n",
        "    \"\"\"\n",
        "    function that imputes missing values.\n",
        "    \n",
        "    @param df: dataframe that has missing values to be\n",
        "               imputed\n",
        "    @return df_clean: dataframe without missing values and indicators for missigness\n",
        "\n",
        "    \"\"\"\n",
        "    \n",
        "    \"\"\"\n",
        "    fill missing values by the closest values first\n",
        "    ffill to fill missing values in the tail\n",
        "    bfill to fill missing values in the head\n",
        "    \"\"\"\n",
        "    df_clean = df.copy()\n",
        "    lab_attributes = df_clean.columns[7:33]\n",
        "    all_attributes = df_clean.columns\n",
        "\n",
        "    for att in lab_attributes: \n",
        "        df_clean['missing_'+att]=1*np.array(df_clean[att].isnull())\n",
        "        \n",
        "    for att in all_attributes:\n",
        "        if df_clean[att].isnull().sum() == len(df_clean):\n",
        "            df_clean[att] = df_clean[att].fillna(0)\n",
        "        elif df_clean[att].isnull().sum() == len(df_clean) - 1:\n",
        "            df_clean[att] = df_clean[att].ffill().bfill()\n",
        "        else:\n",
        "            df_clean[att] = df_clean[att].interpolate(method='nearest', limit_direction='both') \n",
        "            df_clean[att] = df_clean[att].ffill().bfill()\n",
        "\n",
        "    return df_clean\n"
      ],
      "execution_count": 0,
      "outputs": []
    },
    {
      "cell_type": "code",
      "metadata": {
        "id": "FXYdMOPIOn0U",
        "colab_type": "code",
        "colab": {}
      },
      "source": [
        "data_path = [\"training_setA\",\"training_setB\" ]\n",
        "patient_id = [sorted(os.listdir(data_path[0])), sorted(os.listdir(data_path[1]))]\n",
        "data = [] # list of df for each patient, not imputed\n",
        "\n",
        "for hosp in range(2):\n",
        "    for p in patient_id[hosp]:\n",
        "        # read in patient data\n",
        "        df = pd.read_csv(data_path[hosp] + '/' + p, sep = \"|\")\n",
        "        attributes = df.columns[:-1]\n",
        "        # drop unit1 and unit2 with half missing values\n",
        "        # because these two features have few information\n",
        "        # drop EtCO2 with all missing values\n",
        "        df = df.drop(['Unit1', 'Unit2', 'EtCO2'], axis=1)\n",
        "        data.append(df)"
      ],
      "execution_count": 0,
      "outputs": []
    },
    {
      "cell_type": "code",
      "metadata": {
        "id": "ZlLI2tvniLFh",
        "colab_type": "code",
        "colab": {}
      },
      "source": [
        "np.random.seed(66) # for consistency of shuffle\n",
        "\n",
        "def prep_data_detection_parallel(test_offset = -3, train_offset = 6, max_hour = 96, test_prop = 0.2, val_prop = 0.1):\n",
        "    # helper for frame \n",
        "    def prep_frame_detection(patient):\n",
        "    # get time-to-sepsis label for every hour of patient\n",
        "        eventual_sepsis = 0\n",
        "        time_of_sepsis = max_hour\n",
        "        for index, row in patient.iterrows():\n",
        "            if int(row['SepsisLabel'])>0 and index <= max_hour:\n",
        "                time_of_sepsis = index + 6\n",
        "                eventual_sepsis = 1\n",
        "                break\n",
        "        \n",
        "        times_of_sepsis = []\n",
        "        for index, row in patient.iterrows():\n",
        "            if eventual_sepsis == 1:\n",
        "                times_of_sepsis.append(max(time_of_sepsis-index,0)) # time_to_sepsis is >=0 \n",
        "            else:\n",
        "                times_of_sepsis.append(max_hour) # if sepsis doesnt occur, then time_of_sepsis same as censoring\n",
        "                \n",
        "        patient_df = patient.copy()\n",
        "        patient_df['TimeToSepsis'] = times_of_sepsis\n",
        "        patient_df['EventualSepsis'] = len(patient_df)*[eventual_sepsis]\n",
        "        patient_df = patient_df[:max_hour] # get rid of data that exceeds the first max_hour hours\n",
        "        return patient_df\n",
        "\n",
        "    # 1) get information time_of_sepsis and eventual_sepsis and split into train_val_test\n",
        "    # max_hour is  number of hours to keep track of, if sepsis develops after max_hour of stay or never\n",
        "    np.random.shuffle(data) # shuffle the order\n",
        "    #Create time-to-sepsis column\n",
        "    times = [] # keep track of all time-to-sepsis for analysis \n",
        "    lenghts = [] # lenght of patient stays\n",
        "    data_df = [] # holds new data\n",
        "    pool = ThreadPool(100)\n",
        "    data_df = pool.map(prep_frame_detection, data)\n",
        "\n",
        "    data_train_raw = data_df[:math.ceil(len(data_df)*(1-test_prop - val_prop))]\n",
        "    data_val_raw = data_df[math.ceil(len(data_df)*(1-test_prop - val_prop)):math.ceil(len(data_df)*(1-test_prop - val_prop)) +  math.ceil(len(data_df)*(val_prop))]\n",
        "    data_test_raw = data_df[math.ceil(len(data_df)*(1-test_prop - val_prop)) +  math.ceil(len(data_df)*(val_prop)):]\n",
        "    return data_train_raw, data_val_raw, data_test_raw\n",
        "\n",
        "def impute_data_detection(data_train_raw, data_val_raw, data_test_raw, test_offset = -3, train_offset = 6, max_hour = 72 ):\n",
        "    # 2) truncate train to some constant offset, truncate test and val depending on the val, and then impute\n",
        "    def impute_training(patient):\n",
        "        patient_df = None\n",
        "        if patient.EventualSepsis[0] == 1:\n",
        "            time_of_sepsis = patient.TimeToSepsis[0]\n",
        "            patient_df = patient.copy()[:max(time_of_sepsis + train_offset ,1)] # for sepsis in training set, keep 6 hours after onset, this is a hyperparameter \n",
        "        else:\n",
        "            patient_df = patient.copy() \n",
        "        return impute_missing_vals(patient_df)\n",
        "\n",
        "    def impute_testing(patient):\n",
        "        patient_df = None\n",
        "        if patient.EventualSepsis[0] == 1:\n",
        "            time_of_sepsis = patient.TimeToSepsis[0]\n",
        "            patient_df = patient.copy()[:max(time_of_sepsis + test_offset ,1)] # for sepsis in test/val set, keep test_offset hours before onset\n",
        "        else:\n",
        "            patient_df = patient.copy()\n",
        "        return impute_missing_vals(patient_df)\n",
        "\n",
        "    pool = ThreadPool(100)\n",
        "    print(\"Imputing training data...\")\n",
        "    data_train = pool.map(impute_training, data_train_raw)\n",
        "    print(\"Imputing validation data...\")\n",
        "    data_val = pool.map(impute_testing, data_val_raw)\n",
        "    print(\"Imputing testing data...\")\n",
        "    data_test = pool.map(impute_testing, data_test_raw)\n",
        "    return data_train, data_val, data_test\n"
      ],
      "execution_count": 0,
      "outputs": []
    },
    {
      "cell_type": "code",
      "metadata": {
        "id": "vFXNaJ2APdRH",
        "colab_type": "code",
        "colab": {}
      },
      "source": [
        "max_hour = 96\n",
        "data_train_raw, data_val_raw, data_test_raw = prep_data_detection_parallel(test_offset = 1, train_offset = 1, max_hour = 96, test_prop = 0.20, val_prop = 0.05)"
      ],
      "execution_count": 0,
      "outputs": []
    },
    {
      "cell_type": "code",
      "metadata": {
        "id": "Lz9aucfQWP9E",
        "colab_type": "code",
        "outputId": "bd9eeb20-834e-4258-8749-2e4bb4b1ab1d",
        "colab": {
          "base_uri": "https://localhost:8080/",
          "height": 70
        }
      },
      "source": [
        "data_train, data_val, data_test = impute_data_detection(data_train_raw, data_val_raw, data_test_raw, test_offset = 0 , train_offset = 0, max_hour = 72 )"
      ],
      "execution_count": 0,
      "outputs": [
        {
          "output_type": "stream",
          "text": [
            "Imputing training data...\n",
            "Imputing validation data...\n",
            "Imputing testing data...\n"
          ],
          "name": "stdout"
        }
      ]
    },
    {
      "cell_type": "code",
      "metadata": {
        "id": "x0AtPVjQ4NTn",
        "colab_type": "code",
        "outputId": "9154aaf0-dc8d-4409-864b-10d0a8340001",
        "colab": {
          "base_uri": "https://localhost:8080/",
          "height": 70
        }
      },
      "source": [
        "print(len(data_train))\n",
        "print(len(data_val))\n",
        "print(len(data_test))"
      ],
      "execution_count": 0,
      "outputs": [
        {
          "output_type": "stream",
          "text": [
            "30252\n",
            "2017\n",
            "8067\n"
          ],
          "name": "stdout"
        }
      ]
    },
    {
      "cell_type": "markdown",
      "metadata": {
        "id": "2kRWFwmTziFo",
        "colab_type": "text"
      },
      "source": [
        " Pytorch dataset class, features:\n",
        "\n",
        " - sorts data by lenght, then collate pads only within batches to minimize padding"
      ]
    },
    {
      "cell_type": "code",
      "metadata": {
        "id": "c8refKFPWyTk",
        "colab_type": "code",
        "colab": {}
      },
      "source": [
        "input_dim = 63 # known"
      ],
      "execution_count": 0,
      "outputs": []
    },
    {
      "cell_type": "code",
      "metadata": {
        "id": "6kR9U-MIu-e8",
        "colab_type": "code",
        "colab": {}
      },
      "source": [
        "\n",
        "class SepsisDataset(Dataset):\n",
        "    def __init__(self, data_df, seq_lenght):\n",
        "        \"\"\"\n",
        "        data_df: what is obtained from the above\n",
        "        \"\"\"\n",
        "        data_x = []\n",
        "        data_y = []\n",
        "        for i in range(len(data_df)):\n",
        "            x = data_df[i][:seq_lenght] # keep only first seq_lenght hours\n",
        "            y = torch.from_numpy(x.EventualSepsis.to_numpy()).long()[0] # for CE\n",
        "            x = x.drop(columns=[\"TimeToSepsis\", \"SepsisLabel\",\"EventualSepsis\"])\n",
        "            x = torch.from_numpy(x.to_numpy()).float() # for LSTM compatibility\n",
        "            data_x.append(x)\n",
        "            data_y.append(y)\n",
        "        # sort by sequence lenght\n",
        "        data_x_sorted, data_y_sorted = (list(t) for t in zip(*sorted(zip(data_x, data_y),key=self.key_tensor)))\n",
        "\n",
        "        self.data_x = data_x_sorted\n",
        "        self.data_y = data_y_sorted\n",
        "    \n",
        "    def key_tensor(self, elem):\n",
        "        return elem[0].size()[0] # get sequence lenght\n",
        "\n",
        "    def __getitem__(self, index):\n",
        "        \"\"\"Take the index of item and returns the patient and its labels\"\"\"\n",
        "        \n",
        "        x = self.data_x[index]\n",
        "        y = self.data_y[index]\n",
        "        return x, y\n",
        "\n",
        "    def __len__(self):\n",
        "        return len(self.data_y)\n",
        "\n",
        "class SepsisDataset_test(Dataset):\n",
        "    def __init__(self, data_df, seq_lenght, test_offset = 1):\n",
        "        \"\"\"\n",
        "        data_df: what is obtained from the above\n",
        "        \"\"\"\n",
        "        data_x = []\n",
        "        data_y = []\n",
        "        for i in range(len(data_df)):\n",
        "            if len(data_df[i]) > test_offset:\n",
        "                x = data_df[i][:-test_offset] # keep only first seq_lenght hours\n",
        "            else:\n",
        "                x = data_df[i][0:1] # keep only first seq_lenght hours\n",
        "            y = torch.from_numpy(x.EventualSepsis.to_numpy()).long()[0] # for CE\n",
        "            x = x.drop(columns=[\"TimeToSepsis\", \"SepsisLabel\",\"EventualSepsis\"])\n",
        "            x = torch.from_numpy(x.to_numpy()).float() # for LSTM compatibility\n",
        "            data_x.append(x)\n",
        "            data_y.append(y)\n",
        "        # sort by sequence lenght\n",
        "        data_x_sorted, data_y_sorted = (list(t) for t in zip(*sorted(zip(data_x, data_y),key=self.key_tensor)))\n",
        "\n",
        "        self.data_x = data_x_sorted\n",
        "        self.data_y = data_y_sorted\n",
        "    \n",
        "    def key_tensor(self, elem):\n",
        "        return elem[0].size()[0] # get sequence lenght\n",
        "\n",
        "    def __getitem__(self, index):\n",
        "        \"\"\"Take the index of item and returns the patient and its labels\"\"\"\n",
        "        \n",
        "        x = self.data_x[index]\n",
        "        y = self.data_y[index]\n",
        "        return x, y\n",
        "\n",
        "    def __len__(self):\n",
        "        return len(self.data_y)\n",
        "\n",
        "def my_collate(batch):\n",
        "    '''\n",
        "    collate_fn to only pad with 0 within batch\n",
        "    '''\n",
        "    data_x = [x[0] for x in batch]\n",
        "    data_y = torch.stack([x[1] for x in batch])\n",
        "    # get max_lenght\n",
        "    max_lenght = 0\n",
        "    for i in range(len(data_x)):\n",
        "        if data_x[i].size()[0] > max_lenght:\n",
        "            max_lenght = data_x[i].size()[0]\n",
        "    # pad to max_lenght by 0\n",
        "    for i in range(len(data_x)):\n",
        "        if data_x[i].size()[0] < max_lenght: \n",
        "            data_x[i] = torch.cat([data_x[i], torch.zeros([max_lenght - data_x[i].size()[0] ,input_dim]) ] ) # append zeros to uniform lenght\n",
        "    data_x = torch.stack(data_x)\n",
        "    return data_x, data_y"
      ],
      "execution_count": 0,
      "outputs": []
    },
    {
      "cell_type": "code",
      "metadata": {
        "id": "6g1wMa73ytF1",
        "colab_type": "code",
        "colab": {}
      },
      "source": [
        "Batch_size = 16\n",
        "seq_lenght = 72 # maximum timeline, should be compatible with data prep\n",
        "dataset_train = SepsisDataset(data_train, seq_lenght=seq_lenght)\n",
        "dataset_val = SepsisDataset(data_val, seq_lenght=seq_lenght)\n",
        "dataset_test = SepsisDataset(data_test, seq_lenght=seq_lenght)\n"
      ],
      "execution_count": 0,
      "outputs": []
    },
    {
      "cell_type": "code",
      "metadata": {
        "id": "3GZZ_PDJ-Gs2",
        "colab_type": "code",
        "colab": {}
      },
      "source": [
        "# data loaders\n",
        "num_workers = 24\n",
        "Batch_size = 16\n",
        "\n",
        "dataLoaderTrain = DataLoader(dataset=dataset_train, batch_size=Batch_size, shuffle=False,  num_workers=num_workers, pin_memory=True, collate_fn=my_collate)\n",
        "dataLoaderVal = DataLoader(dataset=dataset_val, batch_size=Batch_size, shuffle=False, num_workers=num_workers, pin_memory=True, collate_fn=my_collate)\n",
        "dataLoaderTest = DataLoader(dataset=dataset_test, batch_size=Batch_size, num_workers=num_workers, pin_memory=True, collate_fn=my_collate)"
      ],
      "execution_count": 0,
      "outputs": []
    },
    {
      "cell_type": "code",
      "metadata": {
        "id": "Mym2IPHZSeVX",
        "colab_type": "code",
        "colab": {}
      },
      "source": [
        "\n",
        "dataset_test_0 = SepsisDataset_test(data_test, seq_lenght=seq_lenght,test_offset =  1)\n",
        "dataset_test_1 = SepsisDataset_test(data_test, seq_lenght=seq_lenght, test_offset = 2)\n",
        "dataset_test_2 = SepsisDataset_test(data_test, seq_lenght=seq_lenght,test_offset =  3)\n",
        "dataset_test_3 = SepsisDataset_test(data_test, seq_lenght=seq_lenght,test_offset =  4)\n",
        "dataset_test_4 = SepsisDataset_test(data_test, seq_lenght=seq_lenght,test_offset =  5)\n",
        "dataset_test_5 = SepsisDataset_test(data_test, seq_lenght=seq_lenght,test_offset = 6)\n",
        "dataset_test_6 = SepsisDataset_test(data_test, seq_lenght=seq_lenght,test_offset = 7)\n",
        "dataset_test_7 = SepsisDataset_test(data_test, seq_lenght=seq_lenght,test_offset = 8)\n",
        "dataset_test_8 = SepsisDataset_test(data_test, seq_lenght=seq_lenght,test_offset = 9)\n",
        "dataset_test_9 = SepsisDataset_test(data_test, seq_lenght=seq_lenght,test_offset = 10)\n",
        "dataset_test_10 = SepsisDataset_test(data_test, seq_lenght=seq_lenght,test_offset = 11)\n",
        "dataset_test_11 = SepsisDataset_test(data_test, seq_lenght=seq_lenght,test_offset = 12)\n"
      ],
      "execution_count": 0,
      "outputs": []
    },
    {
      "cell_type": "code",
      "metadata": {
        "id": "0BrfxhFrTknU",
        "colab_type": "code",
        "colab": {}
      },
      "source": [
        "dataLoaderTest_0 = DataLoader(dataset=dataset_test_0, batch_size=Batch_size, num_workers=num_workers, pin_memory=True, collate_fn=my_collate)\n",
        "dataLoaderTest_1 = DataLoader(dataset=dataset_test_1, batch_size=Batch_size, num_workers=num_workers, pin_memory=True, collate_fn=my_collate)\n",
        "dataLoaderTest_2 = DataLoader(dataset=dataset_test_2, batch_size=Batch_size, num_workers=num_workers, pin_memory=True, collate_fn=my_collate)\n",
        "dataLoaderTest_3 = DataLoader(dataset=dataset_test_3, batch_size=Batch_size, num_workers=num_workers, pin_memory=True, collate_fn=my_collate)\n",
        "dataLoaderTest_4 = DataLoader(dataset=dataset_test_4, batch_size=Batch_size, num_workers=num_workers, pin_memory=True, collate_fn=my_collate)\n",
        "dataLoaderTest_5 = DataLoader(dataset=dataset_test_5, batch_size=Batch_size, num_workers=num_workers, pin_memory=True, collate_fn=my_collate)\n",
        "dataLoaderTest_6 = DataLoader(dataset=dataset_test_6, batch_size=Batch_size, num_workers=num_workers, pin_memory=True, collate_fn=my_collate)\n",
        "dataLoaderTest_7 = DataLoader(dataset=dataset_test_7, batch_size=Batch_size, num_workers=num_workers, pin_memory=True, collate_fn=my_collate)\n",
        "dataLoaderTest_8 = DataLoader(dataset=dataset_test_8, batch_size=Batch_size, num_workers=num_workers, pin_memory=True, collate_fn=my_collate)\n",
        "dataLoaderTest_9 = DataLoader(dataset=dataset_test_9, batch_size=Batch_size, num_workers=num_workers, pin_memory=True, collate_fn=my_collate)\n",
        "dataLoaderTest_10 = DataLoader(dataset=dataset_test_10, batch_size=Batch_size, num_workers=num_workers, pin_memory=True, collate_fn=my_collate)\n",
        "dataLoaderTest_11 = DataLoader(dataset=dataset_test_11, batch_size=Batch_size, num_workers=num_workers, pin_memory=True, collate_fn=my_collate)\n"
      ],
      "execution_count": 0,
      "outputs": []
    },
    {
      "cell_type": "markdown",
      "metadata": {
        "id": "vunTK5fsz9J_",
        "colab_type": "text"
      },
      "source": [
        "## Model "
      ]
    },
    {
      "cell_type": "code",
      "metadata": {
        "id": "th_28zVZe0Mi",
        "colab_type": "code",
        "colab": {}
      },
      "source": [
        "# simple LSTM model\n",
        "class LSTM_sepsis(nn.Module):\n",
        "    def __init__(self, input_dim, hidden_dim, out_dim, dropout):\n",
        "        super(LSTM_sepsis, self).__init__()\n",
        "        self.hidden_dim = hidden_dim\n",
        "        self.lstm = nn.LSTM(input_dim, hidden_dim, num_layers=2, dropout = 0.5, bidirectional=True)\n",
        "        self.linear1 = nn.Linear(hidden_dim *2  , int(hidden_dim/2))\n",
        "        self.linear2 = nn.Linear(int(hidden_dim/2), int(hidden_dim/4))\n",
        "        self.linear3 = nn.Linear(int(hidden_dim/4), out_dim)\n",
        "        self.dropout = nn.Dropout(0.1) \n",
        "\n",
        "\n",
        "    def forward(self, input):\n",
        "        lstm_out, (hidden, cell) = self.lstm(input.view(-1,len(input), input_dim))\n",
        "        out_lstm = torch.cat([hidden[0],hidden[-1]],dim=1) \n",
        "        #out_lstm = hidden[-1]\n",
        "        output = self.linear1(out_lstm)\n",
        "        output = self.linear2(output)\n",
        "        outpout = self.dropout(output)\n",
        "        output = self.linear3(output)\n",
        "        output = tfunc.softmax(output)\n",
        "        return output\n",
        "input_dim = 63 # known\n",
        "out_dim = 2  # two classes: sepsis or not\n",
        "hidden_dim = 128 #256 # \n",
        "dropout = 0.2\n",
        "model = LSTM_sepsis(input_dim, hidden_dim, out_dim, dropout) # create model\n",
        "\n"
      ],
      "execution_count": 0,
      "outputs": []
    },
    {
      "cell_type": "code",
      "metadata": {
        "id": "byM57zeef2ra",
        "colab_type": "code",
        "outputId": "9b6e90bf-2498-4bcd-ba4a-ea058240e88b",
        "colab": {
          "base_uri": "https://localhost:8080/",
          "height": 35
        }
      },
      "source": [
        "def count_parameters(model):\n",
        "    return sum(p.numel() for p in model.parameters() if p.requires_grad)\n",
        "\n",
        "print(f'The model has {count_parameters(model):,} trainable parameters')"
      ],
      "execution_count": 0,
      "outputs": [
        {
          "output_type": "stream",
          "text": [
            "The model has 1,006,754 trainable parameters\n"
          ],
          "name": "stdout"
        }
      ]
    },
    {
      "cell_type": "markdown",
      "metadata": {
        "id": "7k6y4lE00Ec-",
        "colab_type": "text"
      },
      "source": [
        "Initialize optimizer and transfer to GPU"
      ]
    },
    {
      "cell_type": "code",
      "metadata": {
        "id": "zsmqbQLQf5bB",
        "colab_type": "code",
        "colab": {}
      },
      "source": [
        "import torch.optim as optim\n",
        "device = torch.device('cuda' if torch.cuda.is_available() else 'cpu')\n",
        "\n",
        "optimizer = optim.Adam(model.parameters(), lr=0.0001, betas=(0.9, 0.999), eps=1e-08, weight_decay=1e-5)\n",
        "scheduler = ReduceLROnPlateau(optimizer, factor=0.1, patience=5, mode='min')\n",
        "\n",
        "criterion = nn.CrossEntropyLoss(weight = torch.tensor([1.0,5.0])) # weight vector to deal with class imbalance torch.tensor([1.0,5.0]\n",
        "\n",
        "model = model.to(device)\n",
        "criterion = criterion.to(device)"
      ],
      "execution_count": 0,
      "outputs": []
    },
    {
      "cell_type": "markdown",
      "metadata": {
        "id": "GaL6nksy0LrA",
        "colab_type": "text"
      },
      "source": [
        "## Training and evaluation helpers"
      ]
    },
    {
      "cell_type": "code",
      "metadata": {
        "id": "TTA_bHxEf7Hs",
        "colab_type": "code",
        "colab": {}
      },
      "source": [
        "def categorical_accuracy(preds, y):\n",
        "    \"\"\"\n",
        "    Returns accuracy per batch, i.e. if you get 8/10 right, this returns 0.8, NOT 8\n",
        "    \"\"\"\n",
        "    max_preds = preds.argmax(dim = 1, keepdim = True) # get the index of the max probability\n",
        "    correct = max_preds.squeeze(1).eq(y)\n",
        "    return correct.sum() / torch.FloatTensor([y.shape[0]])"
      ],
      "execution_count": 0,
      "outputs": []
    },
    {
      "cell_type": "code",
      "metadata": {
        "id": "jWys0bX7f8-x",
        "colab_type": "code",
        "colab": {}
      },
      "source": [
        "def train(model, iterator, optimizer, criterion):\n",
        "    \n",
        "    epoch_loss = 0\n",
        "    epoch_acc = 0\n",
        "    \n",
        "    model.train()\n",
        "    \n",
        "    for batchID, (input, target) in enumerate(iterator):\n",
        "        if batchID % 100 == 0:\n",
        "            print(f'loss {epoch_loss / (batchID * 16 + 0.0000001)}')\n",
        "        input = input.to(device)\n",
        "        target = target.to(device)\n",
        "        optimizer.zero_grad()\n",
        "        predictions = model(input)\n",
        "        \n",
        "        loss = criterion(predictions, target)\n",
        "        \n",
        "        acc = categorical_accuracy(predictions,target)\n",
        "        \n",
        "        loss.backward()\n",
        "        \n",
        "        optimizer.step()\n",
        "        \n",
        "        epoch_loss += loss.item()\n",
        "        epoch_acc += acc.item()\n",
        "        \n",
        "    return epoch_loss / len(iterator), epoch_acc / len(iterator)"
      ],
      "execution_count": 0,
      "outputs": []
    },
    {
      "cell_type": "code",
      "metadata": {
        "id": "vLw-ThXrf-19",
        "colab_type": "code",
        "colab": {}
      },
      "source": [
        "from sklearn.metrics import roc_auc_score\n",
        "from sklearn.metrics import average_precision_score\n",
        "def evaluate(model, iterator, criterion):\n",
        "    \n",
        "    epoch_loss = 0\n",
        "    epoch_acc = 0\n",
        "    preds = []\n",
        "    truth = []\n",
        "    model.eval()\n",
        "    \n",
        "    with torch.no_grad():\n",
        "    \n",
        "        for batchID, (input, target) in enumerate(iterator):\n",
        "            input = input.to(device)\n",
        "            target = target.to(device)\n",
        "            predictions = model(input)\n",
        "            preds.extend([ a[1].detach().cpu().numpy().item() for a in predictions])\n",
        "            truth.extend([t.cpu().numpy() for t in target])\n",
        "            loss = criterion(predictions, target)\n",
        "            \n",
        "            acc = categorical_accuracy(predictions, target)\n",
        "\n",
        "            epoch_loss += loss.item()\n",
        "            epoch_acc += acc.item()\n",
        "    print(f'\\t AUC:: {roc_auc_score(truth, preds)}')  \n",
        "    print('Average precision-recall score: {0:0.2f}'.format(\n",
        "      average_precision_score(truth, preds)))     \n",
        "    return epoch_loss / len(iterator), epoch_acc / len(iterator)"
      ],
      "execution_count": 0,
      "outputs": []
    },
    {
      "cell_type": "code",
      "metadata": {
        "id": "4lBJ7Z58gBET",
        "colab_type": "code",
        "colab": {}
      },
      "source": [
        "import time\n",
        "\n",
        "def epoch_time(start_time, end_time):\n",
        "    elapsed_time = end_time - start_time\n",
        "    elapsed_mins = int(elapsed_time / 60)\n",
        "    elapsed_secs = int(elapsed_time - (elapsed_mins * 60))\n",
        "    return elapsed_mins, elapsed_secs"
      ],
      "execution_count": 0,
      "outputs": []
    },
    {
      "cell_type": "markdown",
      "metadata": {
        "id": "rRYYniAC0PNV",
        "colab_type": "text"
      },
      "source": [
        "## Training"
      ]
    },
    {
      "cell_type": "code",
      "metadata": {
        "id": "emjUMo7ggC3i",
        "colab_type": "code",
        "colab": {}
      },
      "source": [
        "N_EPOCHS = 100\n",
        "\n",
        "best_valid_loss = float('inf')\n",
        "\n",
        "for epoch in range(N_EPOCHS):\n",
        "\n",
        "    start_time = time.time()\n",
        "    print(\"Train metrics\")\n",
        "    valid_loss, valid_acc = evaluate(model, dataLoaderTrain, criterion)\n",
        "    train_loss, train_acc = train(model, dataLoaderTrain, optimizer, criterion)\n",
        "    print(\"Test metrics\")\n",
        "    valid_loss, valid_acc = evaluate(model, dataLoaderVal, criterion)\n",
        "    scheduler.step(valid_loss)\n",
        "\n",
        "    end_time = time.time()\n",
        "\n",
        "    epoch_mins, epoch_secs = epoch_time(start_time, end_time)\n",
        "    \n",
        "    if valid_loss < best_valid_loss:\n",
        "        best_valid_loss = valid_loss\n",
        "        torch.save(model.state_dict(), 'tut5-model.pt')\n",
        "        \n",
        "    print(f'Epoch: {epoch+1:02} | Epoch Time: {epoch_mins}m {epoch_secs}s')\n",
        "    print(f'\\tTrain Loss: {train_loss:.3f} | Train Acc: {train_acc*100:.2f}%')\n",
        "    print(f'\\t Val. Loss: {valid_loss:.3f} |  Val. Acc: {valid_acc*100:.2f}%')"
      ],
      "execution_count": 0,
      "outputs": []
    },
    {
      "cell_type": "code",
      "metadata": {
        "id": "du1pxynvsehy",
        "colab_type": "code",
        "colab": {}
      },
      "source": [
        "valid_loss, valid_acc = evaluate(model, dataLoaderTest, criterion)\n",
        "valid_loss, valid_acc = evaluate(model, dataLoaderTest_0, criterion)\n",
        "valid_loss, valid_acc = evaluate(model, dataLoaderTest_1, criterion)\n",
        "valid_loss, valid_acc = evaluate(model, dataLoaderTest_2, criterion)\n",
        "valid_loss, valid_acc = evaluate(model, dataLoaderTest_3, criterion)\n",
        "valid_loss, valid_acc = evaluate(model, dataLoaderTest_4, criterion)\n",
        "valid_loss, valid_acc = evaluate(model, dataLoaderTest_5, criterion)\n",
        "valid_loss, valid_acc = evaluate(model, dataLoaderTest_6, criterion)\n",
        "valid_loss, valid_acc = evaluate(model, dataLoaderTest_7, criterion)\n",
        "valid_loss, valid_acc = evaluate(model, dataLoaderTest_8, criterion)\n",
        "valid_loss, valid_acc = evaluate(model, dataLoaderTest_9, criterion)\n",
        "valid_loss, valid_acc = evaluate(model, dataLoaderTest_10, criterion)\n",
        "valid_loss, valid_acc = evaluate(model, dataLoaderTest_11, criterion)"
      ],
      "execution_count": 0,
      "outputs": []
    },
    {
      "cell_type": "markdown",
      "metadata": {
        "id": "hjm6En0S0VLf",
        "colab_type": "text"
      },
      "source": [
        "## ROC curves"
      ]
    },
    {
      "cell_type": "code",
      "metadata": {
        "id": "ugKZXtOTMjZE",
        "colab_type": "code",
        "outputId": "e38fc10b-4f58-45b5-e1ff-6c136df67fd0",
        "colab": {
          "base_uri": "https://localhost:8080/",
          "height": 349
        }
      },
      "source": [
        "# print ROC curve\n",
        "# https://scikit-learn.org/stable/auto_examples/model_selection/plot_roc.html#sphx-glr-auto-examples-model-selection-plot-roc-py\n",
        "fpr = dict()\n",
        "tpr = dict()\n",
        "roc_auc = dict()\n",
        "preds = []\n",
        "truth = []\n",
        "model.eval()\n",
        "\n",
        "with torch.no_grad():\n",
        "    for batchID, (input, target) in enumerate(dataLoaderTest):\n",
        "        input = input.to(device)\n",
        "        target = target.to(device)\n",
        "        predictions = model(input)\n",
        "        preds.extend([ a[1].detach().cpu().numpy().item() for a in predictions])\n",
        "        truth.extend([t.cpu().numpy() for t in target])\n",
        "\n",
        "print(f'\\t AUC:: {roc_auc_score(truth, preds)}')        \n",
        "\n",
        "for i in range(2,3):\n",
        "    fpr[i], tpr[i], _ = roc_curve(truth, preds)\n",
        "    roc_auc[i] = auc(fpr[i], tpr[i])\n",
        "\n",
        "# Compute micro-average ROC curve and ROC area\n",
        "fpr[\"micro\"], tpr[\"micro\"], _ = roc_curve(truth, preds)\n",
        "roc_auc[\"micro\"] = auc(fpr[\"micro\"], tpr[\"micro\"])\n",
        "plt.figure()\n",
        "lw = 2\n",
        "plt.plot(fpr[2], tpr[2], color='darkorange',\n",
        "         lw=lw, label='ROC curve (area = %0.2f)' % roc_auc[2])\n",
        "plt.plot([0, 1], [0, 1], color='navy', lw=lw, linestyle='--')\n",
        "plt.xlim([0.0, 1.0])\n",
        "plt.ylim([0.0, 1.05])\n",
        "plt.xlabel('False Positive Rate')\n",
        "plt.ylabel('True Positive Rate')\n",
        "plt.title('Receiver operating characteristic example')\n",
        "plt.legend(loc=\"lower right\")\n",
        "plt.savefig('roc_curve_12-96.png')\n",
        "plt.show()"
      ],
      "execution_count": 0,
      "outputs": [
        {
          "output_type": "stream",
          "text": [
            "/usr/local/lib/python3.6/dist-packages/ipykernel_launcher.py:18: UserWarning: Implicit dimension choice for softmax has been deprecated. Change the call to include dim=X as an argument.\n"
          ],
          "name": "stderr"
        },
        {
          "output_type": "stream",
          "text": [
            "\t AUC:: 0.8080905748300089\n"
          ],
          "name": "stdout"
        },
        {
          "output_type": "display_data",
          "data": {
            "image/png": "[encoded data removed]",
            "text/plain": [
              "<Figure size 432x288 with 1 Axes>"
            ]
          },
          "metadata": {
            "tags": [],
            "needs_background": "light"
          }
        }
      ]
    }
  ]
}